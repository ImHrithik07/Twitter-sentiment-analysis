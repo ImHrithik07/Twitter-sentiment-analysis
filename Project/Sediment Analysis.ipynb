{
 "cells": [
  {
   "cell_type": "code",
   "execution_count": null,
   "id": "0a7f3fe5-f055-44a6-b920-b2c5525d7ca5",
   "metadata": {},
   "outputs": [],
   "source": [
    "\n"
   ]
  },
  {
   "cell_type": "code",
   "execution_count": 3,
   "id": "361bd717-8f94-4693-b485-e0cd7f3518e4",
   "metadata": {},
   "outputs": [],
   "source": [
    "import pandas as pd\n",
    "import numpy as np\n",
    "import re\n",
    "import seaborn as sns\n",
    "import matplotlib.pyplot as plt\n",
    "from matplotlib import style\n",
    "style.use('ggplot')\n",
    "from textblob import TextBlob\n",
    "from nltk.tokenize import word_tokenize\n",
    "from nltk.stem import PorterStemmer\n",
    "from nltk.corpus import stopwords\n",
    "stop_words = set(stopwords.words('english'))\n",
    "from sklearn.feature_extraction.text import CountVectorizer\n",
    "from sklearn.model_selection import train_test_split\n",
    "from sklearn.linear_model import LogisticRegression\n",
    "from sklearn.metrics import accuracy_score, classification_report, confusion_matrix, ConfusionMatrixDisplay"
   ]
  },
  {
   "cell_type": "code",
   "execution_count": 4,
   "id": "8bbb4ed0-2db0-4902-8916-8da0693dd029",
   "metadata": {},
   "outputs": [],
   "source": [
    "df = pd.read_csv('/Users/imhrithik/Downloads/Hack-AI-Thon Project/tweets/_tweets_1-100.csv')"
   ]
  },
  {
   "cell_type": "code",
   "execution_count": 5,
   "id": "ae12f432-55e6-475d-a787-b61578c7f69c",
   "metadata": {},
   "outputs": [
    {
     "data": {
      "text/html": [
       "<div>\n",
       "<style scoped>\n",
       "    .dataframe tbody tr th:only-of-type {\n",
       "        vertical-align: middle;\n",
       "    }\n",
       "\n",
       "    .dataframe tbody tr th {\n",
       "        vertical-align: top;\n",
       "    }\n",
       "\n",
       "    .dataframe thead th {\n",
       "        text-align: right;\n",
       "    }\n",
       "</style>\n",
       "<table border=\"1\" class=\"dataframe\">\n",
       "  <thead>\n",
       "    <tr style=\"text-align: right;\">\n",
       "      <th></th>\n",
       "      <th>Name</th>\n",
       "      <th>Handle</th>\n",
       "      <th>Timestamp</th>\n",
       "      <th>Verified</th>\n",
       "      <th>text</th>\n",
       "      <th>Comments</th>\n",
       "      <th>Retweets</th>\n",
       "      <th>Likes</th>\n",
       "      <th>Analytics</th>\n",
       "      <th>Tags</th>\n",
       "      <th>Mentions</th>\n",
       "      <th>Emojis</th>\n",
       "      <th>Profile Image</th>\n",
       "      <th>Tweet Link</th>\n",
       "      <th>Tweet ID</th>\n",
       "    </tr>\n",
       "  </thead>\n",
       "  <tbody>\n",
       "    <tr>\n",
       "      <th>0</th>\n",
       "      <td>Arjun lal</td>\n",
       "      <td>@Arjunla60518436</td>\n",
       "      <td>2024-02-04T04:43:46.000Z</td>\n",
       "      <td>False</td>\n",
       "      <td>होमगार्ड बिल\\n1946/1947,1962/1963की फाइल गृह म...</td>\n",
       "      <td>0</td>\n",
       "      <td>0</td>\n",
       "      <td>0</td>\n",
       "      <td>0</td>\n",
       "      <td>['#होमगार्ड्स_एक्ट_मे_संशोधन_करें']</td>\n",
       "      <td>['@narendramodi', '@CMODelhi', '@ANI']</td>\n",
       "      <td>[]</td>\n",
       "      <td>https://pbs.twimg.com/profile_images/109554816...</td>\n",
       "      <td>https://twitter.com/Arjunla60518436/status/175...</td>\n",
       "      <td>tweet_id:1754002785933365424</td>\n",
       "    </tr>\n",
       "    <tr>\n",
       "      <th>1</th>\n",
       "      <td>Lakshyaek</td>\n",
       "      <td>@Lakshya__ek</td>\n",
       "      <td>2024-02-04T04:43:46.000Z</td>\n",
       "      <td>False</td>\n",
       "      <td></td>\n",
       "      <td>0</td>\n",
       "      <td>0</td>\n",
       "      <td>0</td>\n",
       "      <td>0</td>\n",
       "      <td>[]</td>\n",
       "      <td>['@HMOIndia', '@NIA_India', '@PMOIndia', '@nar...</td>\n",
       "      <td>[]</td>\n",
       "      <td>https://pbs.twimg.com/profile_images/156892440...</td>\n",
       "      <td>https://twitter.com/Lakshya__ek/status/1754002...</td>\n",
       "      <td>tweet_id:1754002784012386750</td>\n",
       "    </tr>\n",
       "    <tr>\n",
       "      <th>2</th>\n",
       "      <td>Deepak Prajapati</td>\n",
       "      <td>@DeepakP42553647</td>\n",
       "      <td>2024-02-04T04:43:44.000Z</td>\n",
       "      <td>False</td>\n",
       "      <td>#पीड़ित_पंचायत_सहायक</td>\n",
       "      <td>0</td>\n",
       "      <td>0</td>\n",
       "      <td>0</td>\n",
       "      <td>0</td>\n",
       "      <td>['#पीड़ित_पंचायत_सहायक']</td>\n",
       "      <td>[]</td>\n",
       "      <td>[]</td>\n",
       "      <td>https://pbs.twimg.com/profile_images/160718084...</td>\n",
       "      <td>https://twitter.com/DeepakP42553647/status/175...</td>\n",
       "      <td>tweet_id:1754002777058287709</td>\n",
       "    </tr>\n",
       "    <tr>\n",
       "      <th>3</th>\n",
       "      <td>venkat</td>\n",
       "      <td>@venkatars1</td>\n",
       "      <td>2024-02-04T04:43:43.000Z</td>\n",
       "      <td>False</td>\n",
       "      <td>https://thewire.in/politics/fact-check-have-ch...</td>\n",
       "      <td>0</td>\n",
       "      <td>0</td>\n",
       "      <td>0</td>\n",
       "      <td>0</td>\n",
       "      <td>[]</td>\n",
       "      <td>[]</td>\n",
       "      <td>[]</td>\n",
       "      <td>https://abs.twimg.com/sticky/default_profile_i...</td>\n",
       "      <td>https://twitter.com/venkatars1/status/17540027...</td>\n",
       "      <td>tweet_id:1754002774201934216</td>\n",
       "    </tr>\n",
       "    <tr>\n",
       "      <th>4</th>\n",
       "      <td>tyrenakki</td>\n",
       "      <td>@tyre_nakki</td>\n",
       "      <td>2024-02-04T04:43:38.000Z</td>\n",
       "      <td>False</td>\n",
       "      <td>increase your followers to blame  . pipe down ...</td>\n",
       "      <td>0</td>\n",
       "      <td>0</td>\n",
       "      <td>0</td>\n",
       "      <td>1</td>\n",
       "      <td>[]</td>\n",
       "      <td>['@narendramodi']</td>\n",
       "      <td>[]</td>\n",
       "      <td>https://abs.twimg.com/sticky/default_profile_i...</td>\n",
       "      <td>https://twitter.com/tyre_nakki/status/17540027...</td>\n",
       "      <td>tweet_id:1754002753594995090</td>\n",
       "    </tr>\n",
       "  </tbody>\n",
       "</table>\n",
       "</div>"
      ],
      "text/plain": [
       "               Name            Handle                 Timestamp  Verified  \\\n",
       "0         Arjun lal  @Arjunla60518436  2024-02-04T04:43:46.000Z     False   \n",
       "1         Lakshyaek      @Lakshya__ek  2024-02-04T04:43:46.000Z     False   \n",
       "2  Deepak Prajapati  @DeepakP42553647  2024-02-04T04:43:44.000Z     False   \n",
       "3            venkat       @venkatars1  2024-02-04T04:43:43.000Z     False   \n",
       "4         tyrenakki       @tyre_nakki  2024-02-04T04:43:38.000Z     False   \n",
       "\n",
       "                                                text  Comments  Retweets  \\\n",
       "0  होमगार्ड बिल\\n1946/1947,1962/1963की फाइल गृह म...         0         0   \n",
       "1                                                            0         0   \n",
       "2                               #पीड़ित_पंचायत_सहायक         0         0   \n",
       "3  https://thewire.in/politics/fact-check-have-ch...         0         0   \n",
       "4  increase your followers to blame  . pipe down ...         0         0   \n",
       "\n",
       "   Likes  Analytics                                 Tags  \\\n",
       "0      0          0  ['#होमगार्ड्स_एक्ट_मे_संशोधन_करें']   \n",
       "1      0          0                                   []   \n",
       "2      0          0             ['#पीड़ित_पंचायत_सहायक']   \n",
       "3      0          0                                   []   \n",
       "4      0          1                                   []   \n",
       "\n",
       "                                            Mentions Emojis  \\\n",
       "0             ['@narendramodi', '@CMODelhi', '@ANI']     []   \n",
       "1  ['@HMOIndia', '@NIA_India', '@PMOIndia', '@nar...     []   \n",
       "2                                                 []     []   \n",
       "3                                                 []     []   \n",
       "4                                  ['@narendramodi']     []   \n",
       "\n",
       "                                       Profile Image  \\\n",
       "0  https://pbs.twimg.com/profile_images/109554816...   \n",
       "1  https://pbs.twimg.com/profile_images/156892440...   \n",
       "2  https://pbs.twimg.com/profile_images/160718084...   \n",
       "3  https://abs.twimg.com/sticky/default_profile_i...   \n",
       "4  https://abs.twimg.com/sticky/default_profile_i...   \n",
       "\n",
       "                                          Tweet Link  \\\n",
       "0  https://twitter.com/Arjunla60518436/status/175...   \n",
       "1  https://twitter.com/Lakshya__ek/status/1754002...   \n",
       "2  https://twitter.com/DeepakP42553647/status/175...   \n",
       "3  https://twitter.com/venkatars1/status/17540027...   \n",
       "4  https://twitter.com/tyre_nakki/status/17540027...   \n",
       "\n",
       "                       Tweet ID  \n",
       "0  tweet_id:1754002785933365424  \n",
       "1  tweet_id:1754002784012386750  \n",
       "2  tweet_id:1754002777058287709  \n",
       "3  tweet_id:1754002774201934216  \n",
       "4  tweet_id:1754002753594995090  "
      ]
     },
     "execution_count": 5,
     "metadata": {},
     "output_type": "execute_result"
    }
   ],
   "source": [
    "df.head()\n"
   ]
  },
  {
   "cell_type": "code",
   "execution_count": 6,
   "id": "0a0cb334-b239-496d-b2e3-c05ba4968a61",
   "metadata": {},
   "outputs": [
    {
     "name": "stdout",
     "output_type": "stream",
     "text": [
      "<class 'pandas.core.frame.DataFrame'>\n",
      "RangeIndex: 100 entries, 0 to 99\n",
      "Data columns (total 15 columns):\n",
      " #   Column         Non-Null Count  Dtype \n",
      "---  ------         --------------  ----- \n",
      " 0   Name           100 non-null    object\n",
      " 1   Handle         100 non-null    object\n",
      " 2   Timestamp      100 non-null    object\n",
      " 3   Verified       100 non-null    bool  \n",
      " 4   text           95 non-null     object\n",
      " 5   Comments       100 non-null    int64 \n",
      " 6   Retweets       100 non-null    int64 \n",
      " 7   Likes          100 non-null    int64 \n",
      " 8   Analytics      100 non-null    int64 \n",
      " 9   Tags           100 non-null    object\n",
      " 10  Mentions       100 non-null    object\n",
      " 11  Emojis         100 non-null    object\n",
      " 12  Profile Image  100 non-null    object\n",
      " 13  Tweet Link     100 non-null    object\n",
      " 14  Tweet ID       100 non-null    object\n",
      "dtypes: bool(1), int64(4), object(10)\n",
      "memory usage: 11.2+ KB\n"
     ]
    }
   ],
   "source": [
    "df.info()\n"
   ]
  },
  {
   "cell_type": "code",
   "execution_count": 7,
   "id": "723aa948-0178-43de-ac30-873130e08c44",
   "metadata": {},
   "outputs": [
    {
     "data": {
      "text/plain": [
       "Name             0\n",
       "Handle           0\n",
       "Timestamp        0\n",
       "Verified         0\n",
       "text             5\n",
       "Comments         0\n",
       "Retweets         0\n",
       "Likes            0\n",
       "Analytics        0\n",
       "Tags             0\n",
       "Mentions         0\n",
       "Emojis           0\n",
       "Profile Image    0\n",
       "Tweet Link       0\n",
       "Tweet ID         0\n",
       "dtype: int64"
      ]
     },
     "execution_count": 7,
     "metadata": {},
     "output_type": "execute_result"
    }
   ],
   "source": [
    "df.isnull().sum()\n"
   ]
  },
  {
   "cell_type": "code",
   "execution_count": null,
   "id": "6c426380-4142-4365-a929-d31de129006b",
   "metadata": {},
   "outputs": [],
   "source": [
    "\n",
    "\n"
   ]
  },
  {
   "cell_type": "code",
   "execution_count": 8,
   "id": "9c51b75f-d13f-4820-b6cf-fe6b8d2b1fe6",
   "metadata": {},
   "outputs": [
    {
     "data": {
      "text/plain": [
       "Index(['Name', 'Handle', 'Timestamp', 'Verified', 'text', 'Comments',\n",
       "       'Retweets', 'Likes', 'Analytics', 'Tags', 'Mentions', 'Emojis',\n",
       "       'Profile Image', 'Tweet Link', 'Tweet ID'],\n",
       "      dtype='object')"
      ]
     },
     "execution_count": 8,
     "metadata": {},
     "output_type": "execute_result"
    }
   ],
   "source": [
    "df.columns"
   ]
  },
  {
   "cell_type": "code",
   "execution_count": 9,
   "id": "a1705af5-96c4-4f69-9428-60f573b7b335",
   "metadata": {},
   "outputs": [
    {
     "data": {
      "text/html": [
       "<div>\n",
       "<style scoped>\n",
       "    .dataframe tbody tr th:only-of-type {\n",
       "        vertical-align: middle;\n",
       "    }\n",
       "\n",
       "    .dataframe tbody tr th {\n",
       "        vertical-align: top;\n",
       "    }\n",
       "\n",
       "    .dataframe thead th {\n",
       "        text-align: right;\n",
       "    }\n",
       "</style>\n",
       "<table border=\"1\" class=\"dataframe\">\n",
       "  <thead>\n",
       "    <tr style=\"text-align: right;\">\n",
       "      <th></th>\n",
       "      <th>text</th>\n",
       "    </tr>\n",
       "  </thead>\n",
       "  <tbody>\n",
       "    <tr>\n",
       "      <th>0</th>\n",
       "      <td>होमगार्ड बिल\\n1946/1947,1962/1963की फाइल गृह म...</td>\n",
       "    </tr>\n",
       "    <tr>\n",
       "      <th>1</th>\n",
       "      <td></td>\n",
       "    </tr>\n",
       "    <tr>\n",
       "      <th>2</th>\n",
       "      <td>#पीड़ित_पंचायत_सहायक</td>\n",
       "    </tr>\n",
       "    <tr>\n",
       "      <th>3</th>\n",
       "      <td>https://thewire.in/politics/fact-check-have-ch...</td>\n",
       "    </tr>\n",
       "    <tr>\n",
       "      <th>4</th>\n",
       "      <td>increase your followers to blame  . pipe down ...</td>\n",
       "    </tr>\n",
       "  </tbody>\n",
       "</table>\n",
       "</div>"
      ],
      "text/plain": [
       "                                                text\n",
       "0  होमगार्ड बिल\\n1946/1947,1962/1963की फाइल गृह म...\n",
       "1                                                   \n",
       "2                               #पीड़ित_पंचायत_सहायक\n",
       "3  https://thewire.in/politics/fact-check-have-ch...\n",
       "4  increase your followers to blame  . pipe down ..."
      ]
     },
     "execution_count": 9,
     "metadata": {},
     "output_type": "execute_result"
    }
   ],
   "source": [
    "\n",
    "\n",
    "\n",
    "text_df = df.drop(['Name', 'Handle', 'Timestamp', 'Verified',  'Comments',\n",
    "       'Retweets', 'Likes', 'Analytics', 'Tags', 'Mentions', 'Emojis',\n",
    "       'Profile Image', 'Tweet Link', 'Tweet ID'], axis=1)\n",
    "text_df.head()"
   ]
  },
  {
   "cell_type": "code",
   "execution_count": 10,
   "id": "b10dab66-4ee2-49c5-944f-1461e78ef05f",
   "metadata": {},
   "outputs": [
    {
     "name": "stdout",
     "output_type": "stream",
     "text": [
      "होमगार्ड बिल\n",
      "1946/1947,1962/1963की फाइल गृह मंत्रालय पहुंच गई है\n",
      "माननीय अमितशाह व माननीय नरेंद्र मोदी जी अंग्रेजों के काले कानून को खत्म करके होमगार्ड बिल में संशोधन करके भारतवर्ष होमगार्ड का सपना पूरा करें#होमगार्ड्स_एक्ट_मे_संशोधन_करें \n",
      "\n",
      "     \n",
      "\n",
      "#पीड़ित_पंचायत_सहायक \n",
      "\n",
      "https://thewire.in/politics/fact-check-have-chinese-companies-really-donated-to-the-pm-cares-fund…You can get this one clarified as things are not clear. \n",
      "\n",
      "increase your followers to blame  . pipe down and do service to Swamy. \n",
      "\n"
     ]
    }
   ],
   "source": [
    "\n",
    "print(text_df['text'].iloc[0],\"\\n\")\n",
    "print(text_df['text'].iloc[1],\"\\n\")\n",
    "print(text_df['text'].iloc[2],\"\\n\")\n",
    "print(text_df['text'].iloc[3],\"\\n\")\n",
    "print(text_df['text'].iloc[4],\"\\n\")"
   ]
  },
  {
   "cell_type": "code",
   "execution_count": 11,
   "id": "3923a772-c372-4a5b-9c71-e1d2759ea42a",
   "metadata": {},
   "outputs": [
    {
     "name": "stdout",
     "output_type": "stream",
     "text": [
      "<class 'pandas.core.frame.DataFrame'>\n",
      "RangeIndex: 100 entries, 0 to 99\n",
      "Data columns (total 1 columns):\n",
      " #   Column  Non-Null Count  Dtype \n",
      "---  ------  --------------  ----- \n",
      " 0   text    95 non-null     object\n",
      "dtypes: object(1)\n",
      "memory usage: 932.0+ bytes\n"
     ]
    }
   ],
   "source": [
    "text_df.info()"
   ]
  },
  {
   "cell_type": "code",
   "execution_count": 12,
   "id": "57eab27b-c879-48b0-be9a-66a3937d98d8",
   "metadata": {},
   "outputs": [],
   "source": [
    "def data_processing(text):\n",
    "    text = text.lower()\n",
    "    text = re.sub(r\"https\\S+|www\\S+https\\S+\", '',text, flags=re.MULTILINE)\n",
    "    text = re.sub(r'\\@w+|\\#','',text)\n",
    "    text = re.sub(r'[^\\w\\s]','',text)\n",
    "    text_tokens = word_tokenize(text)\n",
    "    filtered_text = [w for w in text_tokens if not w in stop_words]\n",
    "    return \" \".join(filtered_text)"
   ]
  },
  {
   "cell_type": "code",
   "execution_count": 13,
   "id": "fa7d0f73-6b73-4055-98fe-d60eb2a49d4c",
   "metadata": {},
   "outputs": [],
   "source": [
    "text_df.text= text_df.text.astype(str)\n",
    "text_df.text = text_df['text'].apply(data_processing)\n",
    "\n"
   ]
  },
  {
   "cell_type": "code",
   "execution_count": 14,
   "id": "9fb85281-2ba6-4039-b0c4-96e7c5181900",
   "metadata": {},
   "outputs": [],
   "source": [
    "text_df = text_df.drop_duplicates('text')\n"
   ]
  },
  {
   "cell_type": "code",
   "execution_count": 15,
   "id": "4e758e6c-5441-46e8-aac2-6d158e2675ea",
   "metadata": {},
   "outputs": [],
   "source": [
    "stemmer = PorterStemmer()\n",
    "def stemming(data):\n",
    "    text = [stemmer.stem(word) for word in data]\n",
    "    return data"
   ]
  },
  {
   "cell_type": "code",
   "execution_count": 16,
   "id": "f7f71b7a-9932-41e4-bec6-2859cbcbbc38",
   "metadata": {},
   "outputs": [],
   "source": [
    "text_df['text'] = text_df['text'].apply(lambda x: stemming(x))\n"
   ]
  },
  {
   "cell_type": "code",
   "execution_count": 17,
   "id": "05cf8c39-4f97-491e-8c9c-c67bef661534",
   "metadata": {},
   "outputs": [
    {
     "data": {
      "text/html": [
       "<div>\n",
       "<style scoped>\n",
       "    .dataframe tbody tr th:only-of-type {\n",
       "        vertical-align: middle;\n",
       "    }\n",
       "\n",
       "    .dataframe tbody tr th {\n",
       "        vertical-align: top;\n",
       "    }\n",
       "\n",
       "    .dataframe thead th {\n",
       "        text-align: right;\n",
       "    }\n",
       "</style>\n",
       "<table border=\"1\" class=\"dataframe\">\n",
       "  <thead>\n",
       "    <tr style=\"text-align: right;\">\n",
       "      <th></th>\n",
       "      <th>text</th>\n",
       "    </tr>\n",
       "  </thead>\n",
       "  <tbody>\n",
       "    <tr>\n",
       "      <th>0</th>\n",
       "      <td>हमगरड बल 1946194719621963क फइल गह मतरलय पहच गई...</td>\n",
       "    </tr>\n",
       "    <tr>\n",
       "      <th>1</th>\n",
       "      <td></td>\n",
       "    </tr>\n",
       "    <tr>\n",
       "      <th>2</th>\n",
       "      <td>पडत_पचयत_सहयक</td>\n",
       "    </tr>\n",
       "    <tr>\n",
       "      <th>3</th>\n",
       "      <td>get one clarified things clear</td>\n",
       "    </tr>\n",
       "    <tr>\n",
       "      <th>4</th>\n",
       "      <td>increase followers blame pipe service swamy</td>\n",
       "    </tr>\n",
       "  </tbody>\n",
       "</table>\n",
       "</div>"
      ],
      "text/plain": [
       "                                                text\n",
       "0  हमगरड बल 1946194719621963क फइल गह मतरलय पहच गई...\n",
       "1                                                   \n",
       "2                                      पडत_पचयत_सहयक\n",
       "3                     get one clarified things clear\n",
       "4        increase followers blame pipe service swamy"
      ]
     },
     "execution_count": 17,
     "metadata": {},
     "output_type": "execute_result"
    }
   ],
   "source": [
    "text_df.head()\n"
   ]
  },
  {
   "cell_type": "code",
   "execution_count": 18,
   "id": "6f44510b-c9f4-4345-bf2b-f3d91bba49a4",
   "metadata": {},
   "outputs": [
    {
     "name": "stdout",
     "output_type": "stream",
     "text": [
      "हमगरड बल 1946194719621963क फइल गह मतरलय पहच गई ह मननय अमतशह व मननय नरदर मद ज अगरज क कल कनन क खतम करक हमगरड बल म सशधन करक भरतवरष हमगरड क सपन पर करहमगरडस_एकट_म_सशधन_कर \n",
      "\n",
      " \n",
      "\n",
      "पडत_पचयत_सहयक \n",
      "\n",
      "get one clarified things clear \n",
      "\n",
      "increase followers blame pipe service swamy \n",
      "\n"
     ]
    }
   ],
   "source": [
    "print(text_df['text'].iloc[0],\"\\n\")\n",
    "print(text_df['text'].iloc[1],\"\\n\")\n",
    "print(text_df['text'].iloc[2],\"\\n\")\n",
    "print(text_df['text'].iloc[3],\"\\n\")\n",
    "print(text_df['text'].iloc[4],\"\\n\")"
   ]
  },
  {
   "cell_type": "code",
   "execution_count": 19,
   "id": "35800591-8fd8-4087-aca0-d7c2a10e5246",
   "metadata": {},
   "outputs": [
    {
     "name": "stdout",
     "output_type": "stream",
     "text": [
      "<class 'pandas.core.frame.DataFrame'>\n",
      "Index: 85 entries, 0 to 98\n",
      "Data columns (total 1 columns):\n",
      " #   Column  Non-Null Count  Dtype \n",
      "---  ------  --------------  ----- \n",
      " 0   text    85 non-null     object\n",
      "dtypes: object(1)\n",
      "memory usage: 1.3+ KB\n"
     ]
    }
   ],
   "source": [
    "text_df.info()\n"
   ]
  },
  {
   "cell_type": "code",
   "execution_count": 20,
   "id": "9b412bdd-76c1-43fb-9344-fd4ceaa06f42",
   "metadata": {},
   "outputs": [],
   "source": [
    "def polarity(text):\n",
    "    return TextBlob(text).sentiment.polarity\n"
   ]
  },
  {
   "cell_type": "code",
   "execution_count": 21,
   "id": "df0752f7-fe94-4eb9-a9a4-5e874041437c",
   "metadata": {},
   "outputs": [],
   "source": [
    "text_df['polarity'] = text_df['text'].apply(polarity)\n"
   ]
  },
  {
   "cell_type": "code",
   "execution_count": 22,
   "id": "fabdf4cd-f238-4a4c-a04a-4c717c4b1f98",
   "metadata": {},
   "outputs": [
    {
     "data": {
      "text/html": [
       "<div>\n",
       "<style scoped>\n",
       "    .dataframe tbody tr th:only-of-type {\n",
       "        vertical-align: middle;\n",
       "    }\n",
       "\n",
       "    .dataframe tbody tr th {\n",
       "        vertical-align: top;\n",
       "    }\n",
       "\n",
       "    .dataframe thead th {\n",
       "        text-align: right;\n",
       "    }\n",
       "</style>\n",
       "<table border=\"1\" class=\"dataframe\">\n",
       "  <thead>\n",
       "    <tr style=\"text-align: right;\">\n",
       "      <th></th>\n",
       "      <th>text</th>\n",
       "      <th>polarity</th>\n",
       "    </tr>\n",
       "  </thead>\n",
       "  <tbody>\n",
       "    <tr>\n",
       "      <th>0</th>\n",
       "      <td>हमगरड बल 1946194719621963क फइल गह मतरलय पहच गई...</td>\n",
       "      <td>0.0</td>\n",
       "    </tr>\n",
       "    <tr>\n",
       "      <th>1</th>\n",
       "      <td></td>\n",
       "      <td>0.0</td>\n",
       "    </tr>\n",
       "    <tr>\n",
       "      <th>2</th>\n",
       "      <td>पडत_पचयत_सहयक</td>\n",
       "      <td>0.0</td>\n",
       "    </tr>\n",
       "    <tr>\n",
       "      <th>3</th>\n",
       "      <td>get one clarified things clear</td>\n",
       "      <td>0.1</td>\n",
       "    </tr>\n",
       "    <tr>\n",
       "      <th>4</th>\n",
       "      <td>increase followers blame pipe service swamy</td>\n",
       "      <td>0.0</td>\n",
       "    </tr>\n",
       "    <tr>\n",
       "      <th>5</th>\n",
       "      <td>kumar vishwas pls bjp rajya sabha</td>\n",
       "      <td>0.0</td>\n",
       "    </tr>\n",
       "    <tr>\n",
       "      <th>7</th>\n",
       "      <td>रजसथन क तरज पर ews सरलकरण ह ews अतरगत वभनन जतय...</td>\n",
       "      <td>0.0</td>\n",
       "    </tr>\n",
       "    <tr>\n",
       "      <th>8</th>\n",
       "      <td>nan</td>\n",
       "      <td>0.0</td>\n",
       "    </tr>\n",
       "    <tr>\n",
       "      <th>9</th>\n",
       "      <td>पडत_पचयत_सहयक6000_म_दम_नह_18000_स_कम_नह</td>\n",
       "      <td>0.0</td>\n",
       "    </tr>\n",
       "    <tr>\n",
       "      <th>10</th>\n",
       "      <td>एनसटई क गजट दखकर बएड करन वल क कय कसर कट न उनह ...</td>\n",
       "      <td>0.0</td>\n",
       "    </tr>\n",
       "  </tbody>\n",
       "</table>\n",
       "</div>"
      ],
      "text/plain": [
       "                                                 text  polarity\n",
       "0   हमगरड बल 1946194719621963क फइल गह मतरलय पहच गई...       0.0\n",
       "1                                                           0.0\n",
       "2                                       पडत_पचयत_सहयक       0.0\n",
       "3                      get one clarified things clear       0.1\n",
       "4         increase followers blame pipe service swamy       0.0\n",
       "5                   kumar vishwas pls bjp rajya sabha       0.0\n",
       "7   रजसथन क तरज पर ews सरलकरण ह ews अतरगत वभनन जतय...       0.0\n",
       "8                                                 nan       0.0\n",
       "9             पडत_पचयत_सहयक6000_म_दम_नह_18000_स_कम_नह       0.0\n",
       "10  एनसटई क गजट दखकर बएड करन वल क कय कसर कट न उनह ...       0.0"
      ]
     },
     "execution_count": 22,
     "metadata": {},
     "output_type": "execute_result"
    }
   ],
   "source": [
    "text_df.head(10)\n"
   ]
  },
  {
   "cell_type": "code",
   "execution_count": 23,
   "id": "a1b153f8-9eb0-476f-937e-d2117209ed7e",
   "metadata": {},
   "outputs": [],
   "source": [
    "def sentiment(label):\n",
    "    if label <0:\n",
    "        return \"Negative\"\n",
    "    elif label ==0:\n",
    "        return \"Neutral\"\n",
    "    elif label>0:\n",
    "        return \"Positive\""
   ]
  },
  {
   "cell_type": "code",
   "execution_count": 24,
   "id": "d779e800-7531-4984-8cca-ce377bfea826",
   "metadata": {},
   "outputs": [],
   "source": [
    "text_df['sentiment'] = text_df['polarity'].apply(sentiment)\n"
   ]
  },
  {
   "cell_type": "code",
   "execution_count": 25,
   "id": "6cbecbe5-2ebe-41a9-867b-59b042af2549",
   "metadata": {},
   "outputs": [
    {
     "data": {
      "text/html": [
       "<div>\n",
       "<style scoped>\n",
       "    .dataframe tbody tr th:only-of-type {\n",
       "        vertical-align: middle;\n",
       "    }\n",
       "\n",
       "    .dataframe tbody tr th {\n",
       "        vertical-align: top;\n",
       "    }\n",
       "\n",
       "    .dataframe thead th {\n",
       "        text-align: right;\n",
       "    }\n",
       "</style>\n",
       "<table border=\"1\" class=\"dataframe\">\n",
       "  <thead>\n",
       "    <tr style=\"text-align: right;\">\n",
       "      <th></th>\n",
       "      <th>text</th>\n",
       "      <th>polarity</th>\n",
       "      <th>sentiment</th>\n",
       "    </tr>\n",
       "  </thead>\n",
       "  <tbody>\n",
       "    <tr>\n",
       "      <th>0</th>\n",
       "      <td>हमगरड बल 1946194719621963क फइल गह मतरलय पहच गई...</td>\n",
       "      <td>0.0</td>\n",
       "      <td>Neutral</td>\n",
       "    </tr>\n",
       "    <tr>\n",
       "      <th>1</th>\n",
       "      <td></td>\n",
       "      <td>0.0</td>\n",
       "      <td>Neutral</td>\n",
       "    </tr>\n",
       "    <tr>\n",
       "      <th>2</th>\n",
       "      <td>पडत_पचयत_सहयक</td>\n",
       "      <td>0.0</td>\n",
       "      <td>Neutral</td>\n",
       "    </tr>\n",
       "    <tr>\n",
       "      <th>3</th>\n",
       "      <td>get one clarified things clear</td>\n",
       "      <td>0.1</td>\n",
       "      <td>Positive</td>\n",
       "    </tr>\n",
       "    <tr>\n",
       "      <th>4</th>\n",
       "      <td>increase followers blame pipe service swamy</td>\n",
       "      <td>0.0</td>\n",
       "      <td>Neutral</td>\n",
       "    </tr>\n",
       "  </tbody>\n",
       "</table>\n",
       "</div>"
      ],
      "text/plain": [
       "                                                text  polarity sentiment\n",
       "0  हमगरड बल 1946194719621963क फइल गह मतरलय पहच गई...       0.0   Neutral\n",
       "1                                                          0.0   Neutral\n",
       "2                                      पडत_पचयत_सहयक       0.0   Neutral\n",
       "3                     get one clarified things clear       0.1  Positive\n",
       "4        increase followers blame pipe service swamy       0.0   Neutral"
      ]
     },
     "execution_count": 25,
     "metadata": {},
     "output_type": "execute_result"
    }
   ],
   "source": [
    "text_df.head()\n"
   ]
  },
  {
   "cell_type": "code",
   "execution_count": 26,
   "id": "598705a4-7a6d-4012-a478-b4db6b7e8447",
   "metadata": {},
   "outputs": [
    {
     "data": {
      "text/plain": [
       "<Axes: xlabel='sentiment', ylabel='count'>"
      ]
     },
     "execution_count": 26,
     "metadata": {},
     "output_type": "execute_result"
    },
    {
     "data": {
      "image/png": "[encoded data removed]",
      "text/plain": [
       "<Figure size 500x500 with 1 Axes>"
      ]
     },
     "metadata": {},
     "output_type": "display_data"
    }
   ],
   "source": [
    "fig = plt.figure(figsize=(5,5))\n",
    "sns.countplot(x='sentiment', data = text_df)\n"
   ]
  },
  {
   "cell_type": "code",
   "execution_count": 27,
   "id": "b277b3da-7c67-4e22-b110-56044b08cb35",
   "metadata": {},
   "outputs": [
    {
     "data": {
      "text/plain": [
       "Text(0.5, 1.0, 'Distribution of sentiments')"
      ]
     },
     "execution_count": 27,
     "metadata": {},
     "output_type": "execute_result"
    },
    {
     "data": {
      "image/png": "[encoded data removed]",
      "text/plain": [
       "<Figure size 700x700 with 1 Axes>"
      ]
     },
     "metadata": {},
     "output_type": "display_data"
    }
   ],
   "source": [
    "fig = plt.figure(figsize=(7,7))\n",
    "colors = (\"yellowgreen\", \"gold\", \"red\")\n",
    "wp = {'linewidth':2, 'edgecolor':\"black\"}\n",
    "tags = text_df['sentiment'].value_counts()\n",
    "explode = (0.1,0.1,0.1)\n",
    "tags.plot(kind='pie', autopct='%1.1f%%', shadow=True, colors = colors,\n",
    "         startangle=90, wedgeprops = wp, explode = explode, label='')\n",
    "plt.title('Distribution of sentiments')\n"
   ]
  },
  {
   "cell_type": "code",
   "execution_count": null,
   "id": "c4dba40d-e6dd-4840-a379-545de0bb7133",
   "metadata": {},
   "outputs": [],
   "source": []
  }
 ],
 "metadata": {
  "kernelspec": {
   "display_name": "Python 3 (ipykernel)",
   "language": "python",
   "name": "python3"
  },
  "language_info": {
   "codemirror_mode": {
    "name": "ipython",
    "version": 3
   },
   "file_extension": ".py",
   "mimetype": "text/x-python",
   "name": "python",
   "nbconvert_exporter": "python",
   "pygments_lexer": "ipython3",
   "version": "3.11.6"
  }
 },
 "nbformat": 4,
 "nbformat_minor": 5
}
